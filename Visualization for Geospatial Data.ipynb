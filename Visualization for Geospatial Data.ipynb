{
  "nbformat": 4,
  "nbformat_minor": 0,
  "metadata": {
    "colab": {
      "name": "Visualization_for_Geospatial_Data_1301184115.ipynb",
      "provenance": [],
      "toc_visible": true
    },
    "kernelspec": {
      "name": "python3",
      "display_name": "Python 3"
    },
    "language_info": {
      "name": "python"
    }
  },
  "cells": [
    {
      "cell_type": "markdown",
      "metadata": {
        "id": "GCqxaA4RZuBC"
      },
      "source": [
        "# Visualisasi Geospatial Data Covid-19 di \n",
        "Nama : Imaduddin M. Fadhil <br>\n",
        "NIM : 1301184115 <br>\n",
        "Kelas : IF-41-GAB03\n",
        "\n",
        "Referensi : \n",
        "- https://towardsdatascience.com/visualizing-geospatial-data-in-python-e070374fe621 (step by step visualisasi geospasial)\n",
        "- https://data.humdata.org/dataset/indonesia-administrative-boundary-polygons-lines-and-places-levels-0-4b (Batasan Poligon Indonesia Level 0 - 4)\n",
        "- https://data.humdata.org/dataset/indonesia-covid-19-cases-recoveries-and-deaths-per-province# (data Covid-19 di Indonesia)\n",
        "\n",
        "Data yang batasan yang saya pakai untuk tugas ini adalah level 1 yaitu batasan antar setiap provinsi di Indonesia\n",
        "\n",
        "\n"
      ]
    },
    {
      "cell_type": "markdown",
      "metadata": {
        "id": "6PI7ayxIeQyJ"
      },
      "source": [
        "# Import Package"
      ]
    },
    {
      "cell_type": "code",
      "metadata": {
        "colab": {
          "base_uri": "https://localhost:8080/"
        },
        "id": "277pvHilguEU",
        "outputId": "fe41798d-f430-4603-da47-99930d3282a0"
      },
      "source": [
        "!pip install geoplot"
      ],
      "execution_count": 2,
      "outputs": [
        {
          "output_type": "stream",
          "text": [
            "Collecting geoplot\n",
            "  Downloading https://files.pythonhosted.org/packages/e1/8f/46133752e1f02e70501939e739b81cbc85c79d7398c963b8a25a3178bffe/geoplot-0.4.1-py3-none-any.whl\n",
            "Requirement already satisfied: seaborn in /usr/local/lib/python3.7/dist-packages (from geoplot) (0.11.1)\n",
            "Collecting contextily>=1.0.0\n",
            "  Downloading https://files.pythonhosted.org/packages/d3/8a/f7916ad000c30b86793a0c7a63946baa413f40f33edb5b10f78a1b150d24/contextily-1.1.0-py3-none-any.whl\n",
            "Collecting geopandas\n",
            "\u001b[?25l  Downloading https://files.pythonhosted.org/packages/d7/bf/e9cefb69d39155d122b6ddca53893b61535fa6ffdad70bf5ef708977f53f/geopandas-0.9.0-py2.py3-none-any.whl (994kB)\n",
            "\u001b[K     |████████████████████████████████| 1.0MB 13.7MB/s \n",
            "\u001b[?25hCollecting cartopy\n",
            "\u001b[?25l  Downloading https://files.pythonhosted.org/packages/ed/ca/524ce33692df3faeaa56852fb6a33b0b410be94cc288417565b96fef3f64/Cartopy-0.19.0.post1.tar.gz (12.1MB)\n",
            "\u001b[K     |████████████████████████████████| 12.1MB 39.9MB/s \n",
            "\u001b[?25h  Installing build dependencies ... \u001b[?25l\u001b[?25hdone\n",
            "  Getting requirements to build wheel ... \u001b[?25l\u001b[?25hdone\n",
            "    Preparing wheel metadata ... \u001b[?25l\u001b[?25hdone\n",
            "Requirement already satisfied: descartes in /usr/local/lib/python3.7/dist-packages (from geoplot) (1.1.0)\n",
            "Requirement already satisfied: matplotlib in /usr/local/lib/python3.7/dist-packages (from geoplot) (3.2.2)\n",
            "Collecting mapclassify>=2.1\n",
            "  Downloading https://files.pythonhosted.org/packages/22/8e/d968c0945d41bb02de0efaa92e31e43a817dc52d30e82b4dfdda407a1903/mapclassify-2.4.2-py3-none-any.whl\n",
            "Requirement already satisfied: pandas in /usr/local/lib/python3.7/dist-packages (from geoplot) (1.1.5)\n",
            "Requirement already satisfied: numpy>=1.15 in /usr/local/lib/python3.7/dist-packages (from seaborn->geoplot) (1.19.5)\n",
            "Requirement already satisfied: scipy>=1.0 in /usr/local/lib/python3.7/dist-packages (from seaborn->geoplot) (1.4.1)\n",
            "Requirement already satisfied: geopy in /usr/local/lib/python3.7/dist-packages (from contextily>=1.0.0->geoplot) (1.17.0)\n",
            "Collecting mercantile\n",
            "  Downloading https://files.pythonhosted.org/packages/b2/d6/de0cc74f8d36976aeca0dd2e9cbf711882ff8e177495115fd82459afdc4d/mercantile-1.2.1-py3-none-any.whl\n",
            "Requirement already satisfied: joblib in /usr/local/lib/python3.7/dist-packages (from contextily>=1.0.0->geoplot) (1.0.1)\n",
            "Requirement already satisfied: requests in /usr/local/lib/python3.7/dist-packages (from contextily>=1.0.0->geoplot) (2.23.0)\n",
            "Collecting rasterio\n",
            "\u001b[?25l  Downloading https://files.pythonhosted.org/packages/e1/bf/d3c5e7df3828db144a6797269bf3aec31db96c20f13e75b93179eb059955/rasterio-1.2.3-cp37-cp37m-manylinux1_x86_64.whl (19.1MB)\n",
            "\u001b[K     |████████████████████████████████| 19.1MB 252kB/s \n",
            "\u001b[?25hRequirement already satisfied: pillow in /usr/local/lib/python3.7/dist-packages (from contextily>=1.0.0->geoplot) (7.1.2)\n",
            "Requirement already satisfied: shapely>=1.6 in /usr/local/lib/python3.7/dist-packages (from geopandas->geoplot) (1.7.1)\n",
            "Collecting fiona>=1.8\n",
            "\u001b[?25l  Downloading https://files.pythonhosted.org/packages/ea/2a/404b22883298a3efe9c6ef8d67acbf2c38443fa366ee9cd4cd34e17626ea/Fiona-1.8.19-cp37-cp37m-manylinux1_x86_64.whl (15.3MB)\n",
            "\u001b[K     |████████████████████████████████| 15.3MB 164kB/s \n",
            "\u001b[?25hCollecting pyproj>=2.2.0\n",
            "\u001b[?25l  Downloading https://files.pythonhosted.org/packages/b1/72/d52e9ca81caef056062d71991b0e9b1d16af042245627c5d0e4916a36c4f/pyproj-3.0.1-cp37-cp37m-manylinux2010_x86_64.whl (6.5MB)\n",
            "\u001b[K     |████████████████████████████████| 6.5MB 43.0MB/s \n",
            "\u001b[?25hCollecting pyshp>=2\n",
            "\u001b[?25l  Downloading https://files.pythonhosted.org/packages/38/85/fbf87e7aa55103e0d06af756bdbc15cf821fa580414c23142d60a35d4f85/pyshp-2.1.3.tar.gz (219kB)\n",
            "\u001b[K     |████████████████████████████████| 225kB 54.7MB/s \n",
            "\u001b[?25hRequirement already satisfied: pyparsing!=2.0.4,!=2.1.2,!=2.1.6,>=2.0.1 in /usr/local/lib/python3.7/dist-packages (from matplotlib->geoplot) (2.4.7)\n",
            "Requirement already satisfied: cycler>=0.10 in /usr/local/lib/python3.7/dist-packages (from matplotlib->geoplot) (0.10.0)\n",
            "Requirement already satisfied: python-dateutil>=2.1 in /usr/local/lib/python3.7/dist-packages (from matplotlib->geoplot) (2.8.1)\n",
            "Requirement already satisfied: kiwisolver>=1.0.1 in /usr/local/lib/python3.7/dist-packages (from matplotlib->geoplot) (1.3.1)\n",
            "Requirement already satisfied: scikit-learn in /usr/local/lib/python3.7/dist-packages (from mapclassify>=2.1->geoplot) (0.22.2.post1)\n",
            "Requirement already satisfied: networkx in /usr/local/lib/python3.7/dist-packages (from mapclassify>=2.1->geoplot) (2.5.1)\n",
            "Requirement already satisfied: pytz>=2017.2 in /usr/local/lib/python3.7/dist-packages (from pandas->geoplot) (2018.9)\n",
            "Requirement already satisfied: geographiclib<2,>=1.49 in /usr/local/lib/python3.7/dist-packages (from geopy->contextily>=1.0.0->geoplot) (1.50)\n",
            "Requirement already satisfied: click>=3.0 in /usr/local/lib/python3.7/dist-packages (from mercantile->contextily>=1.0.0->geoplot) (7.1.2)\n",
            "Requirement already satisfied: urllib3!=1.25.0,!=1.25.1,<1.26,>=1.21.1 in /usr/local/lib/python3.7/dist-packages (from requests->contextily>=1.0.0->geoplot) (1.24.3)\n",
            "Requirement already satisfied: certifi>=2017.4.17 in /usr/local/lib/python3.7/dist-packages (from requests->contextily>=1.0.0->geoplot) (2020.12.5)\n",
            "Requirement already satisfied: chardet<4,>=3.0.2 in /usr/local/lib/python3.7/dist-packages (from requests->contextily>=1.0.0->geoplot) (3.0.4)\n",
            "Requirement already satisfied: idna<3,>=2.5 in /usr/local/lib/python3.7/dist-packages (from requests->contextily>=1.0.0->geoplot) (2.10)\n",
            "Collecting affine\n",
            "  Downloading https://files.pythonhosted.org/packages/ac/a6/1a39a1ede71210e3ddaf623982b06ecfc5c5c03741ae659073159184cd3e/affine-2.3.0-py2.py3-none-any.whl\n",
            "Collecting cligj>=0.5\n",
            "  Downloading https://files.pythonhosted.org/packages/42/1e/947eadf10d6804bf276eb8a038bd5307996dceaaa41cfd21b7a15ec62f5d/cligj-0.7.1-py3-none-any.whl\n",
            "Collecting snuggs>=1.4.1\n",
            "  Downloading https://files.pythonhosted.org/packages/cc/0e/d27d6e806d6c0d1a2cfdc5d1f088e42339a0a54a09c3343f7f81ec8947ea/snuggs-1.4.7-py3-none-any.whl\n",
            "Collecting click-plugins\n",
            "  Downloading https://files.pythonhosted.org/packages/e9/da/824b92d9942f4e472702488857914bdd50f73021efea15b4cad9aca8ecef/click_plugins-1.1.1-py2.py3-none-any.whl\n",
            "Requirement already satisfied: attrs in /usr/local/lib/python3.7/dist-packages (from rasterio->contextily>=1.0.0->geoplot) (20.3.0)\n",
            "Requirement already satisfied: six>=1.7 in /usr/local/lib/python3.7/dist-packages (from fiona>=1.8->geopandas->geoplot) (1.15.0)\n",
            "Collecting munch\n",
            "  Downloading https://files.pythonhosted.org/packages/cc/ab/85d8da5c9a45e072301beb37ad7f833cd344e04c817d97e0cc75681d248f/munch-2.5.0-py2.py3-none-any.whl\n",
            "Requirement already satisfied: decorator<5,>=4.3 in /usr/local/lib/python3.7/dist-packages (from networkx->mapclassify>=2.1->geoplot) (4.4.2)\n",
            "Building wheels for collected packages: cartopy\n",
            "  Building wheel for cartopy (PEP 517) ... \u001b[?25l\u001b[?25hdone\n",
            "  Created wheel for cartopy: filename=Cartopy-0.19.0.post1-cp37-cp37m-linux_x86_64.whl size=12516180 sha256=dd73cd92b61e9f0ae1620e801759695a9ea0dc6aa901d653afbfe9ed8a594cc0\n",
            "  Stored in directory: /root/.cache/pip/wheels/45/7f/3b/37879587817fd1bbbee7b47312e2401b4f542cccf2fbe9b4ee\n",
            "Successfully built cartopy\n",
            "Building wheels for collected packages: pyshp\n",
            "  Building wheel for pyshp (setup.py) ... \u001b[?25l\u001b[?25hdone\n",
            "  Created wheel for pyshp: filename=pyshp-2.1.3-cp37-none-any.whl size=37264 sha256=b8b8dee50087cb55b587dc1a40e96f83f870f25dc6ae9b85c05d76d1a065fe07\n",
            "  Stored in directory: /root/.cache/pip/wheels/76/2b/d4/53e6b9a0fb0a9f9f29664cf82605af8bc81d5ab44d987896dd\n",
            "Successfully built pyshp\n",
            "Installing collected packages: mercantile, affine, cligj, snuggs, click-plugins, rasterio, contextily, munch, fiona, pyproj, geopandas, pyshp, cartopy, mapclassify, geoplot\n",
            "Successfully installed affine-2.3.0 cartopy-0.19.0.post1 click-plugins-1.1.1 cligj-0.7.1 contextily-1.1.0 fiona-1.8.19 geopandas-0.9.0 geoplot-0.4.1 mapclassify-2.4.2 mercantile-1.2.1 munch-2.5.0 pyproj-3.0.1 pyshp-2.1.3 rasterio-1.2.3 snuggs-1.4.7\n"
          ],
          "name": "stdout"
        }
      ]
    },
    {
      "cell_type": "code",
      "metadata": {
        "colab": {
          "base_uri": "https://localhost:8080/"
        },
        "id": "s-5nVrD8hICE",
        "outputId": "529ba7c3-2997-4103-ac3a-f90bfdf26c99"
      },
      "source": [
        "!pip install geopandas"
      ],
      "execution_count": 3,
      "outputs": [
        {
          "output_type": "stream",
          "text": [
            "Requirement already satisfied: geopandas in /usr/local/lib/python3.7/dist-packages (0.9.0)\n",
            "Requirement already satisfied: fiona>=1.8 in /usr/local/lib/python3.7/dist-packages (from geopandas) (1.8.19)\n",
            "Requirement already satisfied: shapely>=1.6 in /usr/local/lib/python3.7/dist-packages (from geopandas) (1.7.1)\n",
            "Requirement already satisfied: pyproj>=2.2.0 in /usr/local/lib/python3.7/dist-packages (from geopandas) (3.0.1)\n",
            "Requirement already satisfied: pandas>=0.24.0 in /usr/local/lib/python3.7/dist-packages (from geopandas) (1.1.5)\n",
            "Requirement already satisfied: click<8,>=4.0 in /usr/local/lib/python3.7/dist-packages (from fiona>=1.8->geopandas) (7.1.2)\n",
            "Requirement already satisfied: cligj>=0.5 in /usr/local/lib/python3.7/dist-packages (from fiona>=1.8->geopandas) (0.7.1)\n",
            "Requirement already satisfied: click-plugins>=1.0 in /usr/local/lib/python3.7/dist-packages (from fiona>=1.8->geopandas) (1.1.1)\n",
            "Requirement already satisfied: six>=1.7 in /usr/local/lib/python3.7/dist-packages (from fiona>=1.8->geopandas) (1.15.0)\n",
            "Requirement already satisfied: munch in /usr/local/lib/python3.7/dist-packages (from fiona>=1.8->geopandas) (2.5.0)\n",
            "Requirement already satisfied: certifi in /usr/local/lib/python3.7/dist-packages (from fiona>=1.8->geopandas) (2020.12.5)\n",
            "Requirement already satisfied: attrs>=17 in /usr/local/lib/python3.7/dist-packages (from fiona>=1.8->geopandas) (20.3.0)\n",
            "Requirement already satisfied: python-dateutil>=2.7.3 in /usr/local/lib/python3.7/dist-packages (from pandas>=0.24.0->geopandas) (2.8.1)\n",
            "Requirement already satisfied: pytz>=2017.2 in /usr/local/lib/python3.7/dist-packages (from pandas>=0.24.0->geopandas) (2018.9)\n",
            "Requirement already satisfied: numpy>=1.15.4 in /usr/local/lib/python3.7/dist-packages (from pandas>=0.24.0->geopandas) (1.19.5)\n"
          ],
          "name": "stdout"
        }
      ]
    },
    {
      "cell_type": "code",
      "metadata": {
        "id": "q6kUUP9LZlCg"
      },
      "source": [
        "import geoplot as gplt\n",
        "import geopandas as gpd\n",
        "import geoplot.crs as gcrs\n",
        "import imageio\n",
        "import pandas as pd\n",
        "import pathlib\n",
        "import matplotlib.animation as animation\n",
        "import matplotlib.pyplot as plt\n",
        "import mapclassify as mc\n",
        "import numpy as np\n",
        "\n",
        "%matplotlib inline"
      ],
      "execution_count": 4,
      "outputs": []
    },
    {
      "cell_type": "markdown",
      "metadata": {
        "id": "G4rte-PZgEjp"
      },
      "source": [
        "# Load Data Geometri"
      ]
    },
    {
      "cell_type": "code",
      "metadata": {
        "colab": {
          "base_uri": "https://localhost:8080/",
          "height": 312
        },
        "id": "FkDWtig-gD0n",
        "outputId": "f179d770-1492-470a-b94e-8acdee177ad2"
      },
      "source": [
        "geo_idn = gpd.read_file(\"/content/idn_admbnda_adm1_bps_20200401.shp\")\n",
        "geo_idn.head()"
      ],
      "execution_count": 7,
      "outputs": [
        {
          "output_type": "execute_result",
          "data": {
            "text/html": [
              "<div>\n",
              "<style scoped>\n",
              "    .dataframe tbody tr th:only-of-type {\n",
              "        vertical-align: middle;\n",
              "    }\n",
              "\n",
              "    .dataframe tbody tr th {\n",
              "        vertical-align: top;\n",
              "    }\n",
              "\n",
              "    .dataframe thead th {\n",
              "        text-align: right;\n",
              "    }\n",
              "</style>\n",
              "<table border=\"1\" class=\"dataframe\">\n",
              "  <thead>\n",
              "    <tr style=\"text-align: right;\">\n",
              "      <th></th>\n",
              "      <th>Shape_Leng</th>\n",
              "      <th>Shape_Area</th>\n",
              "      <th>ADM1_EN</th>\n",
              "      <th>ADM1_PCODE</th>\n",
              "      <th>ADM1_REF</th>\n",
              "      <th>ADM1ALT1EN</th>\n",
              "      <th>ADM1ALT2EN</th>\n",
              "      <th>ADM0_EN</th>\n",
              "      <th>ADM0_PCODE</th>\n",
              "      <th>date</th>\n",
              "      <th>validOn</th>\n",
              "      <th>validTo</th>\n",
              "      <th>geometry</th>\n",
              "    </tr>\n",
              "  </thead>\n",
              "  <tbody>\n",
              "    <tr>\n",
              "      <th>0</th>\n",
              "      <td>27.367364</td>\n",
              "      <td>4.625437</td>\n",
              "      <td>Aceh</td>\n",
              "      <td>ID11</td>\n",
              "      <td>None</td>\n",
              "      <td>None</td>\n",
              "      <td>None</td>\n",
              "      <td>Indonesia</td>\n",
              "      <td>ID</td>\n",
              "      <td>2019-12-20</td>\n",
              "      <td>2020-04-01</td>\n",
              "      <td>None</td>\n",
              "      <td>MULTIPOLYGON (((97.39178 2.03748, 97.39055 2.0...</td>\n",
              "    </tr>\n",
              "    <tr>\n",
              "      <th>1</th>\n",
              "      <td>6.026648</td>\n",
              "      <td>0.458717</td>\n",
              "      <td>Bali</td>\n",
              "      <td>ID51</td>\n",
              "      <td>None</td>\n",
              "      <td>None</td>\n",
              "      <td>None</td>\n",
              "      <td>Indonesia</td>\n",
              "      <td>ID</td>\n",
              "      <td>2019-12-20</td>\n",
              "      <td>2020-04-01</td>\n",
              "      <td>None</td>\n",
              "      <td>MULTIPOLYGON (((115.12509 -8.84761, 115.12499 ...</td>\n",
              "    </tr>\n",
              "    <tr>\n",
              "      <th>2</th>\n",
              "      <td>9.279900</td>\n",
              "      <td>0.764911</td>\n",
              "      <td>Banten</td>\n",
              "      <td>ID36</td>\n",
              "      <td>None</td>\n",
              "      <td>None</td>\n",
              "      <td>None</td>\n",
              "      <td>Indonesia</td>\n",
              "      <td>ID</td>\n",
              "      <td>2019-12-20</td>\n",
              "      <td>2020-04-01</td>\n",
              "      <td>None</td>\n",
              "      <td>MULTIPOLYGON (((105.54977 -6.99566, 105.55035 ...</td>\n",
              "    </tr>\n",
              "    <tr>\n",
              "      <th>3</th>\n",
              "      <td>11.653771</td>\n",
              "      <td>1.630129</td>\n",
              "      <td>Bengkulu</td>\n",
              "      <td>ID17</td>\n",
              "      <td>None</td>\n",
              "      <td>None</td>\n",
              "      <td>None</td>\n",
              "      <td>Indonesia</td>\n",
              "      <td>ID</td>\n",
              "      <td>2019-12-20</td>\n",
              "      <td>2020-04-01</td>\n",
              "      <td>None</td>\n",
              "      <td>MULTIPOLYGON (((102.38616 -5.47144, 102.38626 ...</td>\n",
              "    </tr>\n",
              "    <tr>\n",
              "      <th>4</th>\n",
              "      <td>3.341561</td>\n",
              "      <td>0.260130</td>\n",
              "      <td>Daerah Istimewa Yogyakarta</td>\n",
              "      <td>ID34</td>\n",
              "      <td>None</td>\n",
              "      <td>None</td>\n",
              "      <td>None</td>\n",
              "      <td>Indonesia</td>\n",
              "      <td>ID</td>\n",
              "      <td>2019-12-20</td>\n",
              "      <td>2020-04-01</td>\n",
              "      <td>None</td>\n",
              "      <td>MULTIPOLYGON (((110.81980 -8.20358, 110.81951 ...</td>\n",
              "    </tr>\n",
              "  </tbody>\n",
              "</table>\n",
              "</div>"
            ],
            "text/plain": [
              "   Shape_Leng  ...                                           geometry\n",
              "0   27.367364  ...  MULTIPOLYGON (((97.39178 2.03748, 97.39055 2.0...\n",
              "1    6.026648  ...  MULTIPOLYGON (((115.12509 -8.84761, 115.12499 ...\n",
              "2    9.279900  ...  MULTIPOLYGON (((105.54977 -6.99566, 105.55035 ...\n",
              "3   11.653771  ...  MULTIPOLYGON (((102.38616 -5.47144, 102.38626 ...\n",
              "4    3.341561  ...  MULTIPOLYGON (((110.81980 -8.20358, 110.81951 ...\n",
              "\n",
              "[5 rows x 13 columns]"
            ]
          },
          "metadata": {
            "tags": []
          },
          "execution_count": 7
        }
      ]
    },
    {
      "cell_type": "markdown",
      "metadata": {
        "id": "ydRUZHUVjiH-"
      },
      "source": [
        "# Load Data Covid-19 per Provinsi di Indonesia"
      ]
    },
    {
      "cell_type": "code",
      "metadata": {
        "colab": {
          "base_uri": "https://localhost:8080/",
          "height": 228
        },
        "id": "-W-kfuMoha8f",
        "outputId": "0c7dd319-6a3d-474f-a215-13c1b0282892"
      },
      "source": [
        "df = pd.read_csv(\"/content/Case by Provinces - IDN-COVID19.csv\")\n",
        "df.head()"
      ],
      "execution_count": 9,
      "outputs": [
        {
          "output_type": "execute_result",
          "data": {
            "text/html": [
              "<div>\n",
              "<style scoped>\n",
              "    .dataframe tbody tr th:only-of-type {\n",
              "        vertical-align: middle;\n",
              "    }\n",
              "\n",
              "    .dataframe tbody tr th {\n",
              "        vertical-align: top;\n",
              "    }\n",
              "\n",
              "    .dataframe thead th {\n",
              "        text-align: right;\n",
              "    }\n",
              "</style>\n",
              "<table border=\"1\" class=\"dataframe\">\n",
              "  <thead>\n",
              "    <tr style=\"text-align: right;\">\n",
              "      <th></th>\n",
              "      <th>Type</th>\n",
              "      <th>Features Type</th>\n",
              "      <th>ID-number</th>\n",
              "      <th>Province_code</th>\n",
              "      <th>Province_name</th>\n",
              "      <th>Confirmed_cases</th>\n",
              "      <th>Recovered_cases</th>\n",
              "      <th>Death_cases</th>\n",
              "      <th>Features Geometry Type</th>\n",
              "      <th>Features Geometry Coordinates</th>\n",
              "    </tr>\n",
              "  </thead>\n",
              "  <tbody>\n",
              "    <tr>\n",
              "      <th>0</th>\n",
              "      <td>FeatureCollection</td>\n",
              "      <td>Feature</td>\n",
              "      <td>1</td>\n",
              "      <td>11</td>\n",
              "      <td>Aceh</td>\n",
              "      <td>7797</td>\n",
              "      <td>6258</td>\n",
              "      <td>282</td>\n",
              "      <td>Point</td>\n",
              "      <td>96.90952274800009,4.225081892000048</td>\n",
              "    </tr>\n",
              "    <tr>\n",
              "      <th>1</th>\n",
              "      <td>FeatureCollection</td>\n",
              "      <td>Feature</td>\n",
              "      <td>2</td>\n",
              "      <td>12</td>\n",
              "      <td>Sumatera Utara</td>\n",
              "      <td>13277</td>\n",
              "      <td>10846</td>\n",
              "      <td>542</td>\n",
              "      <td>Point</td>\n",
              "      <td>99.05788784900005,2.184779215000049</td>\n",
              "    </tr>\n",
              "    <tr>\n",
              "      <th>2</th>\n",
              "      <td>FeatureCollection</td>\n",
              "      <td>Feature</td>\n",
              "      <td>3</td>\n",
              "      <td>13</td>\n",
              "      <td>Sumatera Barat</td>\n",
              "      <td>16709</td>\n",
              "      <td>13386</td>\n",
              "      <td>311</td>\n",
              "      <td>Point</td>\n",
              "      <td>100.46680503000005,-0.85191434799998</td>\n",
              "    </tr>\n",
              "    <tr>\n",
              "      <th>3</th>\n",
              "      <td>FeatureCollection</td>\n",
              "      <td>Feature</td>\n",
              "      <td>4</td>\n",
              "      <td>14</td>\n",
              "      <td>Riau</td>\n",
              "      <td>14841</td>\n",
              "      <td>11490</td>\n",
              "      <td>340</td>\n",
              "      <td>Point</td>\n",
              "      <td>101.81289195400007,0.510525849000032</td>\n",
              "    </tr>\n",
              "    <tr>\n",
              "      <th>4</th>\n",
              "      <td>FeatureCollection</td>\n",
              "      <td>Feature</td>\n",
              "      <td>5</td>\n",
              "      <td>15</td>\n",
              "      <td>Jambi</td>\n",
              "      <td>1399</td>\n",
              "      <td>892</td>\n",
              "      <td>27</td>\n",
              "      <td>Point</td>\n",
              "      <td>103.59932,-1.61775</td>\n",
              "    </tr>\n",
              "  </tbody>\n",
              "</table>\n",
              "</div>"
            ],
            "text/plain": [
              "                Type  ...         Features Geometry Coordinates\n",
              "0  FeatureCollection  ...   96.90952274800009,4.225081892000048\n",
              "1  FeatureCollection  ...   99.05788784900005,2.184779215000049\n",
              "2  FeatureCollection  ...  100.46680503000005,-0.85191434799998\n",
              "3  FeatureCollection  ...  101.81289195400007,0.510525849000032\n",
              "4  FeatureCollection  ...                    103.59932,-1.61775\n",
              "\n",
              "[5 rows x 10 columns]"
            ]
          },
          "metadata": {
            "tags": []
          },
          "execution_count": 9
        }
      ]
    },
    {
      "cell_type": "markdown",
      "metadata": {
        "id": "Vkrr548hjqko"
      },
      "source": [
        "# Merge Data Geo dan Covid"
      ]
    },
    {
      "cell_type": "code",
      "metadata": {
        "colab": {
          "base_uri": "https://localhost:8080/",
          "height": 501
        },
        "id": "MWjeerCQha4t",
        "outputId": "abc7dc6c-6e38-449e-d4fe-d1aa8c4f47ab"
      },
      "source": [
        "covid_idn = geo_idn.merge(df, left_on=\"ADM1_EN\", right_on=\"Province_name\")\n",
        "covid_idn.head()"
      ],
      "execution_count": 10,
      "outputs": [
        {
          "output_type": "execute_result",
          "data": {
            "text/html": [
              "<div>\n",
              "<style scoped>\n",
              "    .dataframe tbody tr th:only-of-type {\n",
              "        vertical-align: middle;\n",
              "    }\n",
              "\n",
              "    .dataframe tbody tr th {\n",
              "        vertical-align: top;\n",
              "    }\n",
              "\n",
              "    .dataframe thead th {\n",
              "        text-align: right;\n",
              "    }\n",
              "</style>\n",
              "<table border=\"1\" class=\"dataframe\">\n",
              "  <thead>\n",
              "    <tr style=\"text-align: right;\">\n",
              "      <th></th>\n",
              "      <th>Shape_Leng</th>\n",
              "      <th>Shape_Area</th>\n",
              "      <th>ADM1_EN</th>\n",
              "      <th>ADM1_PCODE</th>\n",
              "      <th>ADM1_REF</th>\n",
              "      <th>ADM1ALT1EN</th>\n",
              "      <th>ADM1ALT2EN</th>\n",
              "      <th>ADM0_EN</th>\n",
              "      <th>ADM0_PCODE</th>\n",
              "      <th>date</th>\n",
              "      <th>validOn</th>\n",
              "      <th>validTo</th>\n",
              "      <th>geometry</th>\n",
              "      <th>Type</th>\n",
              "      <th>Features Type</th>\n",
              "      <th>ID-number</th>\n",
              "      <th>Province_code</th>\n",
              "      <th>Province_name</th>\n",
              "      <th>Confirmed_cases</th>\n",
              "      <th>Recovered_cases</th>\n",
              "      <th>Death_cases</th>\n",
              "      <th>Features Geometry Type</th>\n",
              "      <th>Features Geometry Coordinates</th>\n",
              "    </tr>\n",
              "  </thead>\n",
              "  <tbody>\n",
              "    <tr>\n",
              "      <th>0</th>\n",
              "      <td>27.367364</td>\n",
              "      <td>4.625437</td>\n",
              "      <td>Aceh</td>\n",
              "      <td>ID11</td>\n",
              "      <td>None</td>\n",
              "      <td>None</td>\n",
              "      <td>None</td>\n",
              "      <td>Indonesia</td>\n",
              "      <td>ID</td>\n",
              "      <td>2019-12-20</td>\n",
              "      <td>2020-04-01</td>\n",
              "      <td>None</td>\n",
              "      <td>MULTIPOLYGON (((97.39178 2.03748, 97.39055 2.0...</td>\n",
              "      <td>FeatureCollection</td>\n",
              "      <td>Feature</td>\n",
              "      <td>1</td>\n",
              "      <td>11</td>\n",
              "      <td>Aceh</td>\n",
              "      <td>7797</td>\n",
              "      <td>6258</td>\n",
              "      <td>282</td>\n",
              "      <td>Point</td>\n",
              "      <td>96.90952274800009,4.225081892000048</td>\n",
              "    </tr>\n",
              "    <tr>\n",
              "      <th>1</th>\n",
              "      <td>6.026648</td>\n",
              "      <td>0.458717</td>\n",
              "      <td>Bali</td>\n",
              "      <td>ID51</td>\n",
              "      <td>None</td>\n",
              "      <td>None</td>\n",
              "      <td>None</td>\n",
              "      <td>Indonesia</td>\n",
              "      <td>ID</td>\n",
              "      <td>2019-12-20</td>\n",
              "      <td>2020-04-01</td>\n",
              "      <td>None</td>\n",
              "      <td>MULTIPOLYGON (((115.12509 -8.84761, 115.12499 ...</td>\n",
              "      <td>FeatureCollection</td>\n",
              "      <td>Feature</td>\n",
              "      <td>17</td>\n",
              "      <td>51</td>\n",
              "      <td>Bali</td>\n",
              "      <td>12519</td>\n",
              "      <td>11461</td>\n",
              "      <td>403</td>\n",
              "      <td>Point</td>\n",
              "      <td>115.13165099500009,-8.36974326099994</td>\n",
              "    </tr>\n",
              "    <tr>\n",
              "      <th>2</th>\n",
              "      <td>9.279900</td>\n",
              "      <td>0.764911</td>\n",
              "      <td>Banten</td>\n",
              "      <td>ID36</td>\n",
              "      <td>None</td>\n",
              "      <td>None</td>\n",
              "      <td>None</td>\n",
              "      <td>Indonesia</td>\n",
              "      <td>ID</td>\n",
              "      <td>2019-12-20</td>\n",
              "      <td>2020-04-01</td>\n",
              "      <td>None</td>\n",
              "      <td>MULTIPOLYGON (((105.54977 -6.99566, 105.55035 ...</td>\n",
              "      <td>FeatureCollection</td>\n",
              "      <td>Feature</td>\n",
              "      <td>16</td>\n",
              "      <td>36</td>\n",
              "      <td>Banten</td>\n",
              "      <td>10554</td>\n",
              "      <td>8141</td>\n",
              "      <td>298</td>\n",
              "      <td>Point</td>\n",
              "      <td>106.10919706900006,-6.456181598999933</td>\n",
              "    </tr>\n",
              "    <tr>\n",
              "      <th>3</th>\n",
              "      <td>11.653771</td>\n",
              "      <td>1.630129</td>\n",
              "      <td>Bengkulu</td>\n",
              "      <td>ID17</td>\n",
              "      <td>None</td>\n",
              "      <td>None</td>\n",
              "      <td>None</td>\n",
              "      <td>Indonesia</td>\n",
              "      <td>ID</td>\n",
              "      <td>2019-12-20</td>\n",
              "      <td>2020-04-01</td>\n",
              "      <td>None</td>\n",
              "      <td>MULTIPOLYGON (((102.38616 -5.47144, 102.38626 ...</td>\n",
              "      <td>FeatureCollection</td>\n",
              "      <td>Feature</td>\n",
              "      <td>7</td>\n",
              "      <td>17</td>\n",
              "      <td>Bengkulu</td>\n",
              "      <td>1294</td>\n",
              "      <td>992</td>\n",
              "      <td>59</td>\n",
              "      <td>Point</td>\n",
              "      <td>102.26312,-3.79116</td>\n",
              "    </tr>\n",
              "    <tr>\n",
              "      <th>4</th>\n",
              "      <td>3.341561</td>\n",
              "      <td>0.260130</td>\n",
              "      <td>Daerah Istimewa Yogyakarta</td>\n",
              "      <td>ID34</td>\n",
              "      <td>None</td>\n",
              "      <td>None</td>\n",
              "      <td>None</td>\n",
              "      <td>Indonesia</td>\n",
              "      <td>ID</td>\n",
              "      <td>2019-12-20</td>\n",
              "      <td>2020-04-01</td>\n",
              "      <td>None</td>\n",
              "      <td>MULTIPOLYGON (((110.81980 -8.20358, 110.81951 ...</td>\n",
              "      <td>FeatureCollection</td>\n",
              "      <td>Feature</td>\n",
              "      <td>14</td>\n",
              "      <td>34</td>\n",
              "      <td>Daerah Istimewa Yogyakarta</td>\n",
              "      <td>4399</td>\n",
              "      <td>3568</td>\n",
              "      <td>108</td>\n",
              "      <td>Point</td>\n",
              "      <td>110.44536697100006,-7.89501381499997</td>\n",
              "    </tr>\n",
              "  </tbody>\n",
              "</table>\n",
              "</div>"
            ],
            "text/plain": [
              "   Shape_Leng  ...          Features Geometry Coordinates\n",
              "0   27.367364  ...    96.90952274800009,4.225081892000048\n",
              "1    6.026648  ...   115.13165099500009,-8.36974326099994\n",
              "2    9.279900  ...  106.10919706900006,-6.456181598999933\n",
              "3   11.653771  ...                     102.26312,-3.79116\n",
              "4    3.341561  ...   110.44536697100006,-7.89501381499997\n",
              "\n",
              "[5 rows x 23 columns]"
            ]
          },
          "metadata": {
            "tags": []
          },
          "execution_count": 10
        }
      ]
    },
    {
      "cell_type": "markdown",
      "metadata": {
        "id": "Jinx3_04kB_A"
      },
      "source": [
        "# Visualisasi Data Geo Indonesia per Provinsi"
      ]
    },
    {
      "cell_type": "code",
      "metadata": {
        "colab": {
          "base_uri": "https://localhost:8080/",
          "height": 215
        },
        "id": "2It2S8sIiR6j",
        "outputId": "2c35e606-8909-4bfe-bce3-e54f0e07d754"
      },
      "source": [
        "gplt.polyplot(idn)"
      ],
      "execution_count": 11,
      "outputs": [
        {
          "output_type": "execute_result",
          "data": {
            "text/plain": [
              "<matplotlib.axes._subplots.AxesSubplot at 0x7fdf55147750>"
            ]
          },
          "metadata": {
            "tags": []
          },
          "execution_count": 11
        },
        {
          "output_type": "display_data",
          "data": {
            "image/png": "[encoded data removed]",
            "text/plain": [
              "<Figure size 576x432 with 1 Axes>"
            ]
          },
          "metadata": {
            "tags": [],
            "needs_background": "light"
          }
        }
      ]
    },
    {
      "cell_type": "markdown",
      "metadata": {
        "id": "odHWm9vOkI9i"
      },
      "source": [
        "Visualisasi Confirmed Cases"
      ]
    },
    {
      "cell_type": "code",
      "metadata": {
        "colab": {
          "base_uri": "https://localhost:8080/",
          "height": 266
        },
        "id": "w73AtNfaiT3x",
        "outputId": "148c61e5-b83c-40ee-c48d-158f5963ad1c"
      },
      "source": [
        "fig, ax = plt.subplots(ncols=1, nrows=1)\n",
        "propinsi_states.plot(column='Confirmed_cases', ax=ax, legend=True)"
      ],
      "execution_count": 12,
      "outputs": [
        {
          "output_type": "execute_result",
          "data": {
            "text/plain": [
              "<matplotlib.axes._subplots.AxesSubplot at 0x7fdf55147c90>"
            ]
          },
          "metadata": {
            "tags": []
          },
          "execution_count": 12
        },
        {
          "output_type": "display_data",
          "data": {
            "image/png": "[encoded data removed]",
            "text/plain": [
              "<Figure size 432x288 with 2 Axes>"
            ]
          },
          "metadata": {
            "tags": [],
            "needs_background": "light"
          }
        }
      ]
    },
    {
      "cell_type": "markdown",
      "metadata": {
        "id": "IeNAjftpkd9v"
      },
      "source": [
        "Visualisasi Recovered Cases"
      ]
    },
    {
      "cell_type": "code",
      "metadata": {
        "colab": {
          "base_uri": "https://localhost:8080/",
          "height": 266
        },
        "id": "GvE9iOMrkPo7",
        "outputId": "669b5c28-2207-4905-e196-000f5983c406"
      },
      "source": [
        "fig, ax = plt.subplots(ncols=1, nrows=1)\n",
        "propinsi_states.plot(column='Recovered_cases', ax=ax, legend=True)"
      ],
      "execution_count": 15,
      "outputs": [
        {
          "output_type": "execute_result",
          "data": {
            "text/plain": [
              "<matplotlib.axes._subplots.AxesSubplot at 0x7fdf51077b10>"
            ]
          },
          "metadata": {
            "tags": []
          },
          "execution_count": 15
        },
        {
          "output_type": "display_data",
          "data": {
            "image/png": "[encoded data removed]",
            "text/plain": [
              "<Figure size 432x288 with 2 Axes>"
            ]
          },
          "metadata": {
            "tags": [],
            "needs_background": "light"
          }
        }
      ]
    },
    {
      "cell_type": "markdown",
      "metadata": {
        "id": "8-GeGWELkhFC"
      },
      "source": [
        "Visualisasi Death Cases"
      ]
    },
    {
      "cell_type": "code",
      "metadata": {
        "colab": {
          "base_uri": "https://localhost:8080/",
          "height": 266
        },
        "id": "fEsuLkHykPIt",
        "outputId": "8e023ff1-9fbc-4cf2-aba7-d44f9349f9d6"
      },
      "source": [
        "fig, ax = plt.subplots(ncols=1, nrows=1)\n",
        "propinsi_states.plot(column='Death_cases', ax=ax, legend=True)"
      ],
      "execution_count": 17,
      "outputs": [
        {
          "output_type": "execute_result",
          "data": {
            "text/plain": [
              "<matplotlib.axes._subplots.AxesSubplot at 0x7fdf50f561d0>"
            ]
          },
          "metadata": {
            "tags": []
          },
          "execution_count": 17
        },
        {
          "output_type": "display_data",
          "data": {
            "image/png": "[encoded data removed]",
            "text/plain": [
              "<Figure size 432x288 with 2 Axes>"
            ]
          },
          "metadata": {
            "tags": [],
            "needs_background": "light"
          }
        }
      ]
    }
  ]
}